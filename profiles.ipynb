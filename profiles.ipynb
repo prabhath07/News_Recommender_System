{
 "cells": [
  {
   "cell_type": "code",
   "execution_count": 1,
   "metadata": {},
   "outputs": [],
   "source": [
    "import numpy as np \n",
    "import pandas as pd \n",
    "import pickle as pkl "
   ]
  },
  {
   "cell_type": "code",
   "execution_count": 2,
   "metadata": {},
   "outputs": [],
   "source": [
    "def softmax(x):\n",
    "    return np.exp(x) / np.sum(np.exp(x), axis=0)"
   ]
  },
  {
   "cell_type": "code",
   "execution_count": 23,
   "metadata": {},
   "outputs": [],
   "source": [
    "user = np.random.multinomial(1000,[1/41.]*41, size=1)"
   ]
  },
  {
   "cell_type": "code",
   "execution_count": 18,
   "metadata": {},
   "outputs": [],
   "source": [
    "users=[]\n",
    "for i in range(1000):\n",
    "    user = np.random.multinomial(1000,[1/41.]*41, size=1)\n",
    "    users.append(softmax(user[0]))\n",
    "    \n",
    "users = np.array(users)\n",
    " "
   ]
  },
  {
   "cell_type": "code",
   "execution_count": 26,
   "metadata": {},
   "outputs": [
    {
     "data": {
      "text/plain": [
       "array([3.30149895e-04, 1.64371954e-05, 4.46809296e-05, 9.84162966e-01,\n",
       "       3.01057735e-07, 8.18359771e-07, 6.04690626e-06, 8.97440460e-04,\n",
       "       3.30149895e-04, 2.22453249e-06, 1.10752951e-07, 1.64371954e-05,\n",
       "       2.74529119e-10, 3.30149895e-04, 8.18359771e-07, 4.46809296e-05,\n",
       "       2.43949610e-03, 1.49887820e-08, 1.21455359e-04, 2.43949610e-03,\n",
       "       3.01057735e-07, 2.43949610e-03, 6.04690626e-06, 1.64371954e-05,\n",
       "       8.18359771e-07, 8.97440460e-04, 2.22453249e-06, 3.30149895e-04,\n",
       "       7.46247516e-10, 3.01057735e-07, 2.02851106e-09, 4.46809296e-05,\n",
       "       1.64371954e-05, 1.10752951e-07, 1.64371954e-05, 1.21455359e-04,\n",
       "       2.43949610e-03, 1.10752951e-07, 2.43949610e-03, 4.46809296e-05,\n",
       "       7.46247516e-10])"
      ]
     },
     "execution_count": 26,
     "metadata": {},
     "output_type": "execute_result"
    }
   ],
   "source": [
    "softmax(user[0])"
   ]
  },
  {
   "cell_type": "code",
   "execution_count": 22,
   "metadata": {},
   "outputs": [],
   "source": [
    "pkl.dump(users,open('userdb.pkl','wb'))"
   ]
  },
  {
   "cell_type": "code",
   "execution_count": null,
   "metadata": {},
   "outputs": [],
   "source": []
  }
 ],
 "metadata": {
  "interpreter": {
   "hash": "1910d8dd2ad1b217d4d5d21df35379bbdc1e35539664a4d522caaf8125694c5f"
  },
  "kernelspec": {
   "display_name": "Python 3.7.10 ('deeplearning')",
   "language": "python",
   "name": "python3"
  },
  "language_info": {
   "codemirror_mode": {
    "name": "ipython",
    "version": 3
   },
   "file_extension": ".py",
   "mimetype": "text/x-python",
   "name": "python",
   "nbconvert_exporter": "python",
   "pygments_lexer": "ipython3",
   "version": "3.7.10"
  },
  "orig_nbformat": 4
 },
 "nbformat": 4,
 "nbformat_minor": 2
}
