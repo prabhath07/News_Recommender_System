{
 "cells": [
  {
   "cell_type": "code",
   "execution_count": 2,
   "metadata": {},
   "outputs": [],
   "source": [
    "import pickle as pkl\n",
    "import numpy as np \n",
    "import pandas as pd\n",
    "import json"
   ]
  },
  {
   "cell_type": "code",
   "execution_count": 11,
   "metadata": {},
   "outputs": [],
   "source": [
    "model = pkl.load(open('./model.pkl','rb'))\n",
    "userdb = pkl.load(open('userdb.pkl','rb'))\n",
    "articledb = pkl.load(open('articles.pkl','rb'))\n",
    "vectorizer = pkl.load(open('./vectorizer.pkl','rb'))\n",
    "classifier = pkl.load(open('./classifier.pkl','rb'))"
   ]
  },
  {
   "cell_type": "code",
   "execution_count": 17,
   "metadata": {},
   "outputs": [
    {
     "data": {
      "text/html": [
       "<div>\n",
       "<style scoped>\n",
       "    .dataframe tbody tr th:only-of-type {\n",
       "        vertical-align: middle;\n",
       "    }\n",
       "\n",
       "    .dataframe tbody tr th {\n",
       "        vertical-align: top;\n",
       "    }\n",
       "\n",
       "    .dataframe thead th {\n",
       "        text-align: right;\n",
       "    }\n",
       "</style>\n",
       "<table border=\"1\" class=\"dataframe\">\n",
       "  <thead>\n",
       "    <tr style=\"text-align: right;\">\n",
       "      <th></th>\n",
       "      <th>category</th>\n",
       "      <th>headline</th>\n",
       "      <th>authors</th>\n",
       "      <th>link</th>\n",
       "      <th>short_description</th>\n",
       "      <th>date</th>\n",
       "      <th>Text_cleaning</th>\n",
       "    </tr>\n",
       "  </thead>\n",
       "  <tbody>\n",
       "    <tr>\n",
       "      <th>0</th>\n",
       "      <td>CRIME</td>\n",
       "      <td>There Were 2 Mass Shootings In Texas Last Week...</td>\n",
       "      <td>Melissa Jeltsen</td>\n",
       "      <td>https://www.huffingtonpost.com/entry/texas-ama...</td>\n",
       "      <td>She left her husband. He killed their children...</td>\n",
       "      <td>2018-05-26</td>\n",
       "      <td>mass shootings texas last week</td>\n",
       "    </tr>\n",
       "    <tr>\n",
       "      <th>1</th>\n",
       "      <td>ENTERTAINMENT</td>\n",
       "      <td>Will Smith Joins Diplo And Nicky Jam For The 2...</td>\n",
       "      <td>Andy McDonald</td>\n",
       "      <td>https://www.huffingtonpost.com/entry/will-smit...</td>\n",
       "      <td>Of course it has a song.</td>\n",
       "      <td>2018-05-26</td>\n",
       "      <td>smith joins diplo nicky jam world cups officia...</td>\n",
       "    </tr>\n",
       "    <tr>\n",
       "      <th>2</th>\n",
       "      <td>ENTERTAINMENT</td>\n",
       "      <td>Hugh Grant Marries For The First Time At Age 57</td>\n",
       "      <td>Ron Dicker</td>\n",
       "      <td>https://www.huffingtonpost.com/entry/hugh-gran...</td>\n",
       "      <td>The actor and his longtime girlfriend Anna Ebe...</td>\n",
       "      <td>2018-05-26</td>\n",
       "      <td>hugh grant marries first time age</td>\n",
       "    </tr>\n",
       "  </tbody>\n",
       "</table>\n",
       "</div>"
      ],
      "text/plain": [
       "        category                                           headline  \\\n",
       "0          CRIME  There Were 2 Mass Shootings In Texas Last Week...   \n",
       "1  ENTERTAINMENT  Will Smith Joins Diplo And Nicky Jam For The 2...   \n",
       "2  ENTERTAINMENT    Hugh Grant Marries For The First Time At Age 57   \n",
       "\n",
       "           authors                                               link  \\\n",
       "0  Melissa Jeltsen  https://www.huffingtonpost.com/entry/texas-ama...   \n",
       "1    Andy McDonald  https://www.huffingtonpost.com/entry/will-smit...   \n",
       "2       Ron Dicker  https://www.huffingtonpost.com/entry/hugh-gran...   \n",
       "\n",
       "                                   short_description       date  \\\n",
       "0  She left her husband. He killed their children... 2018-05-26   \n",
       "1                           Of course it has a song. 2018-05-26   \n",
       "2  The actor and his longtime girlfriend Anna Ebe... 2018-05-26   \n",
       "\n",
       "                                       Text_cleaning  \n",
       "0                     mass shootings texas last week  \n",
       "1  smith joins diplo nicky jam world cups officia...  \n",
       "2                  hugh grant marries first time age  "
      ]
     },
     "execution_count": 17,
     "metadata": {},
     "output_type": "execute_result"
    }
   ],
   "source": [
    "\n",
    "df = pd.read_json('./data.json')\n",
    "df.head(3)"
   ]
  },
  {
   "cell_type": "code",
   "execution_count": 8,
   "metadata": {},
   "outputs": [],
   "source": [
    "def vec(vectorizer,text):\n",
    "    return vectorizer.transform([text])\n",
    "\n",
    "def add_article(text):\n",
    "    v = vec(vectorizer,text)\n",
    "    preds = classifier.predict_proba(v)\n",
    "    articledb.append(preds)\n",
    "    "
   ]
  },
  {
   "cell_type": "code",
   "execution_count": null,
   "metadata": {},
   "outputs": [],
   "source": []
  },
  {
   "cell_type": "code",
   "execution_count": 55,
   "metadata": {},
   "outputs": [
    {
     "data": {
      "text/plain": [
       "NearestNeighbors(algorithm='ball_tree', n_neighbors=3)"
      ]
     },
     "execution_count": 55,
     "metadata": {},
     "output_type": "execute_result"
    }
   ],
   "source": [
    "# def recommend():\n",
    "def softmax(x):\n",
    "    return np.exp(x) / np.sum(np.exp(x), axis=0)\n",
    "    \n",
    "user = np.random.multinomial(100,[1/41.]*41, size=1)\n",
    "user = np.expand_dims(softmax(user[0]),axis=0)\n",
    "model.predict(user)\n",
    "# model.cluster_centers_[4]\n",
    "\n",
    "from sklearn.neighbors import NearestNeighbors\n",
    "nn =NearestNeighbors(n_neighbors=3,algorithm = 'ball_tree')\n",
    "# knn_colabarative = KNeighborsClassifier(n_neighbors=3)\n",
    "\n",
    "nn.fit(articledb)\n",
    "\n"
   ]
  },
  {
   "cell_type": "code",
   "execution_count": 56,
   "metadata": {},
   "outputs": [
    {
     "data": {
      "text/plain": [
       "array([[0.00449774, 0.00449774, 0.01222612, 0.03323405, 0.00449774,\n",
       "        0.00165463, 0.00165463, 0.03323405, 0.00449774, 0.0006087 ,\n",
       "        0.00449774, 0.00165463, 0.00165463, 0.01222612, 0.03323405,\n",
       "        0.24556825, 0.09033951, 0.03323405, 0.09033951, 0.03323405,\n",
       "        0.00165463, 0.01222612, 0.01222612, 0.00165463, 0.0006087 ,\n",
       "        0.00165463, 0.00449774, 0.00165463, 0.00165463, 0.00449774,\n",
       "        0.00165463, 0.09033951, 0.00165463, 0.00165463, 0.01222612,\n",
       "        0.00165463, 0.01222612, 0.09033951, 0.00449774, 0.00449774,\n",
       "        0.09033951]])"
      ]
     },
     "execution_count": 56,
     "metadata": {},
     "output_type": "execute_result"
    }
   ],
   "source": [
    "user"
   ]
  },
  {
   "cell_type": "code",
   "execution_count": null,
   "metadata": {},
   "outputs": [],
   "source": [
    "pkl.dump(nn,open('./nearest_neighbour.pkl','wb'))"
   ]
  },
  {
   "cell_type": "code",
   "execution_count": 57,
   "metadata": {},
   "outputs": [],
   "source": [
    "# rec = pd.DataFrame()\n",
    "\n",
    "\n",
    "def recommend (user):\n",
    "    links = []\n",
    "    headlines=[]\n",
    "    ids = []\n",
    "    cluster = model.predict(user)[0]\n",
    "    collab_user =np.expand_dims(model.cluster_centers_[cluster],axis=0)\n",
    "    dist,ind = nn.kneighbors(user)\n",
    "    # rec=pd.DataFrame(df.iloc[ind[0][0]]).T\n",
    "    for i in range(3):\n",
    "        links.append(df.iloc[ind[0][i]].link)\n",
    "        headlines.append(df.iloc[ind[0][i]].headline)\n",
    "        ids.append(ind[0][i])\n",
    "    dist,ind = nn.kneighbors(collab_user)\n",
    "    for i in range(3):\n",
    "        links.append(df.iloc[ind[0][i]].link)\n",
    "        headlines.append(df.iloc[ind[0][i]].headline)\n",
    "        ids.append(ind[0][i])\n",
    "        \n",
    "    return (links,headlines,ids)\n",
    "    \n",
    "    \n",
    "    "
   ]
  },
  {
   "cell_type": "code",
   "execution_count": 58,
   "metadata": {},
   "outputs": [],
   "source": [
    "links,headlines,ids =  recommend(user)\n"
   ]
  },
  {
   "cell_type": "code",
   "execution_count": 60,
   "metadata": {},
   "outputs": [],
   "source": [
    "def read_complete(article_id,user):\n",
    "    user = user[0] + classifier.predict_proba(vectorizer.transform([ df.iloc[article_id].Text_cleaning]))[0] /2\n",
    "    return user\n",
    "    # user = user+preds\n",
    "    \n",
    "    "
   ]
  },
  {
   "cell_type": "code",
   "execution_count": 62,
   "metadata": {},
   "outputs": [],
   "source": [
    "user = read_complete(100,user)"
   ]
  },
  {
   "cell_type": "code",
   "execution_count": null,
   "metadata": {},
   "outputs": [],
   "source": []
  }
 ],
 "metadata": {
  "interpreter": {
   "hash": "1910d8dd2ad1b217d4d5d21df35379bbdc1e35539664a4d522caaf8125694c5f"
  },
  "kernelspec": {
   "display_name": "Python 3.7.10 ('deeplearning')",
   "language": "python",
   "name": "python3"
  },
  "language_info": {
   "codemirror_mode": {
    "name": "ipython",
    "version": 3
   },
   "file_extension": ".py",
   "mimetype": "text/x-python",
   "name": "python",
   "nbconvert_exporter": "python",
   "pygments_lexer": "ipython3",
   "version": "3.7.10"
  },
  "orig_nbformat": 4
 },
 "nbformat": 4,
 "nbformat_minor": 2
}
